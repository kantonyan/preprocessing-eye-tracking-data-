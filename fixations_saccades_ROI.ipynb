{
 "cells": [
  {
   "cell_type": "code",
   "execution_count": 13,
   "id": "ea4c0545",
   "metadata": {},
   "outputs": [],
   "source": [
    "import csv\n",
    "import pandas as pd\n",
    "import numpy as np\n",
    "import math\n",
    "\n",
    "import statistics"
   ]
  },
  {
   "cell_type": "code",
   "execution_count": 14,
   "id": "e375ead1",
   "metadata": {},
   "outputs": [],
   "source": [
    "dict = {\"reg_1\" : [], \"dur_reg_1\" : [], \"reg_2\" : [], \"dur_reg_2\" : [], \"reg_3\" : [], \"dur_reg_3\" : [], \"reg_4\" : [], \"dur_reg_4\" : []}\n",
    "#In my model I created 4 regions of interest (ROIs) for my stimuli. I create a database which will cound teh number of fixations and their average dration on each ROI (e.g., reg_3 is the #of fixations on ROI3, dur_reg_3 is teh mean duration of those fixations)"
   ]
  },
  {
   "cell_type": "code",
   "execution_count": 15,
   "id": "f1bb0e55",
   "metadata": {},
   "outputs": [
    {
     "data": {
      "text/html": [
       "<div>\n",
       "<style scoped>\n",
       "    .dataframe tbody tr th:only-of-type {\n",
       "        vertical-align: middle;\n",
       "    }\n",
       "\n",
       "    .dataframe tbody tr th {\n",
       "        vertical-align: top;\n",
       "    }\n",
       "\n",
       "    .dataframe thead th {\n",
       "        text-align: right;\n",
       "    }\n",
       "</style>\n",
       "<table border=\"1\" class=\"dataframe\">\n",
       "  <thead>\n",
       "    <tr style=\"text-align: right;\">\n",
       "      <th></th>\n",
       "      <th>reg_1</th>\n",
       "      <th>dur_reg_1</th>\n",
       "      <th>reg_2</th>\n",
       "      <th>dur_reg_2</th>\n",
       "      <th>reg_3</th>\n",
       "      <th>dur_reg_3</th>\n",
       "      <th>reg_4</th>\n",
       "      <th>dur_reg_4</th>\n",
       "    </tr>\n",
       "  </thead>\n",
       "  <tbody>\n",
       "  </tbody>\n",
       "</table>\n",
       "</div>"
      ],
      "text/plain": [
       "Empty DataFrame\n",
       "Columns: [reg_1, dur_reg_1, reg_2, dur_reg_2, reg_3, dur_reg_3, reg_4, dur_reg_4]\n",
       "Index: []"
      ]
     },
     "metadata": {},
     "output_type": "display_data"
    }
   ],
   "source": [
    "df = pd.DataFrame(dict)\n",
    "  \n",
    "display(df)"
   ]
  },
  {
   "cell_type": "code",
   "execution_count": 4,
   "id": "d3a52f1a",
   "metadata": {},
   "outputs": [],
   "source": [
    "def find_fix(x, y, threshold, sep, extra):   #x, y are the mean coordinates of left and right eyes on stimuli, threshhold is the selected number of pixels around the fixation, which is considered part of fixation, sep is the minimum value of diration used, and extra is teh threshhold which says if the next point is part of same fixation or saccade.   \n",
    "        \n",
    "    rg, dist =[], []\n",
    "    \n",
    "    \n",
    "    start, end, i = 0, 0, 0\n",
    "    cur_x, cur_y = [], []\n",
    "    while i < len(x)- sep: # use: i->i+sep\n",
    "        x_max, x_min, y_max, y_min = max(x[i:i+sep]), min(x[i:i+sep]), max(y[i:i+sep]), min(y[i:i+sep]) \n",
    "        if math.sqrt( (x_max-x_min)**2 + (y_max-y_min)**2 ) <= threshold:\n",
    "            start = i\n",
    "            end = i+sep\n",
    "            while (i < len(x)- sep) and (math.sqrt( (x_max-x_min)**2 + (y_max-y_min)**2 ) <= threshold):\n",
    "                x_new, y_new = x[end], y[end]\n",
    "                x_max, x_min, y_max, y_min = max(x_max, x_new), min(x_min, x_new), max(y_max, y_new), min(y_min, y_new) \n",
    "                i += 1 \n",
    "                end += 1                    \n",
    "\n",
    "            #add\n",
    "            cur_x.append(statistics.median(x[start:end]))\n",
    "            cur_y.append(statistics.median(y[start:end]))\n",
    "                \n",
    "            rg.append(end - start)\n",
    "            dist.append(0)\n",
    "                \n",
    "\n",
    "        else:\n",
    "            \n",
    "            if dist:\n",
    "                dist[-1] += 1\n",
    "                \n",
    "            start, end = i+1, i+1\n",
    "            i += 1\n",
    "                    \n",
    "    x_fin, y_fin, rg_final, dist_final = [], [], [], []\n",
    "    i = 0\n",
    "    \n",
    "    while i < len(cur_x):\n",
    "        if dist[i] == 0:\n",
    "            temp_x, temp_y = [] ,[]\n",
    "            rg_final.append(0)\n",
    "            while i < len(cur_x) and dist[i] == 0:\n",
    "                rg_final[-1] += rg[i]\n",
    "                temp_x.append(cur_x[i])\n",
    "                temp_y.append(cur_y[i])\n",
    "                i += 1\n",
    "            \n",
    "            if i == len(cur_x):\n",
    "                x_fin.append(statistics.median(temp_x))\n",
    "                y_fin.append(statistics.median(temp_y))\n",
    "                dist_final.append(0)\n",
    "                break\n",
    "            \n",
    "            temp_x.append(cur_x[i])\n",
    "            temp_y.append(cur_y[i])\n",
    "            x_fin.append(statistics.median(temp_x))\n",
    "            y_fin.append(statistics.median(temp_y))\n",
    "            rg_final[-1] += rg[i]\n",
    "            dist_final.append(dist[i])\n",
    "            i+=1\n",
    "            \n",
    "            \n",
    "        else:\n",
    "            x_fin.append(cur_x[i])\n",
    "            y_fin.append(cur_x[i])\n",
    "            rg_final.append(rg[i])\n",
    "            dist_final.append(dist[i])\n",
    "            i+=1\n",
    "    \n",
    "                \n",
    "    return x_fin, y_fin, rg_final, dist_final\n",
    "        \n",
    "    "
   ]
  },
  {
   "cell_type": "code",
   "execution_count": null,
   "id": "05485191",
   "metadata": {},
   "outputs": [],
   "source": []
  },
  {
   "cell_type": "code",
   "execution_count": 5,
   "id": "409cc124",
   "metadata": {},
   "outputs": [],
   "source": [
    "def fix_zeros(x, y, threshold1): # I taking care of blinks, threshhold1 is the duration of blinking \n",
    "    \n",
    "    X_new = []\n",
    "    Y_new = []\n",
    "    start = end = -1\n",
    "    zero_mode = False\n",
    "    for i in range(len(x)):\n",
    "        \n",
    "        if not zero_mode:\n",
    "            if x[i] == 0:\n",
    "                start = i-1\n",
    "                zero_mode = True\n",
    "                \n",
    "            else:\n",
    "                X_new.append(x[i])\n",
    "                Y_new.append(y[i])\n",
    "                \n",
    "        else:\n",
    "            if x[i] == 0:\n",
    "                if i == len(x)-1:\n",
    "                    if start == -1: return ([], [])\n",
    "                    else:\n",
    "                        if i - start <= threshold1:\n",
    "                            av_x, av_y = x[start], y[start]\n",
    "                            for _ in range(start+1, i+1):\n",
    "                                X_new.append(av_x)\n",
    "                                Y_new.append(av_y)\n",
    "            else:\n",
    "                end = i\n",
    "                if end - start - 1 <= threshold1:\n",
    "                    if start == -1:\n",
    "                        av_x, av_y = x[end], y[end]\n",
    "                    else:\n",
    "                        av_x, av_y = 0.5*(x[start]+x[end]), 0.5*(y[start]+y[end])\n",
    "\n",
    "                    for _ in range(start+1, end):\n",
    "                        X_new.append(av_x)\n",
    "                        Y_new.append(av_y)\n",
    "\n",
    "                zero_mode = False\n",
    "                X_new.append(x[i])\n",
    "                Y_new.append(y[i])\n",
    "                            \n",
    "    return (X_new, Y_new)\n",
    "                           "
   ]
  },
  {
   "cell_type": "code",
   "execution_count": null,
   "id": "1706e1f6",
   "metadata": {},
   "outputs": [],
   "source": []
  },
  {
   "cell_type": "code",
   "execution_count": 6,
   "id": "b2f6a2d3",
   "metadata": {},
   "outputs": [],
   "source": [
    "def fixation(path):\n",
    "    df = pd.read_csv(path)\n",
    "    \n",
    "    X = list(df['Average_X'])\n",
    "    Y = list(df['Average_Y'])\n",
    "    X, Y = fix_zeros(X, Y, 200) # threshhold 1 = 200\n",
    "    X, Y, dist, sep = find_fix(X, Y, 47, 100, 20) # 47 pixels part of one fixation, 100 is the minimum duration of a fixation, 20 is the minimum duration of a saccade (helps to eliminate noise or classify saccades). \n",
    "    return X, Y, dist, sep"
   ]
  },
  {
   "cell_type": "code",
   "execution_count": null,
   "id": "ad817995",
   "metadata": {},
   "outputs": [],
   "source": []
  },
  {
   "cell_type": "code",
   "execution_count": 18,
   "id": "3193e2ea",
   "metadata": {},
   "outputs": [
    {
     "name": "stdout",
     "output_type": "stream",
     "text": [
      "[854.25, 529.1625, 454.87500000000006, 842.425, 448.425, 363.25, 453.7, 342.3, 459.125, 522.4125, 606.2874999999999, 424.375, 464.125, 580.7249999999999, 1219.6625, 1292.15, 1189.2875, 1252.1, 1320.15, 1267.3249999999998, 1343.3375, 1215.475, 1382.2, 1149.1875, 1240.6, 1279.1999999999998, 1190.5500000000002, 775.7]\n",
      "28\n",
      "[854.25, 410.75, 118.5375, 125.2875, 646.7750000000001, 744.4125000000001, 276.66249999999997, 287.35, 644.6750000000001, 629.975, 621.95, 675.25, 671.95, 662.675, 581.3, 604.275, 601.025, 606.1625, 1320.15, 606.1375, 609.9875, 428.05, 430.875, 664.7625, 634.7375, 607.775, 602.1, 390.17499999999995]\n",
      "28\n",
      "[245, 315, 329, 243, 376, 367, 504, 294, 583, 667, 377, 324, 250, 306, 357, 254, 393, 336, 272, 265, 361, 360, 359, 507, 381, 229, 347, 182]\n",
      "28\n",
      "[125, 129, 131, 136, 102, 138, 103, 125, 97, 99, 110, 92, 102, 139, 98, 101, 96, 97, 95, 98, 116, 108, 122, 103, 93, 100, 143, 0]\n",
      "28\n"
     ]
    }
   ],
   "source": [
    "base = 'C:/Users/ufdat/Dropbox (UFL)/Infographic_study/Measurements/Main Learning Task/CSV/' # select your destination\n",
    "#base = ''\n",
    "    \n",
    "a, b, c, d = fixation(base + 'P_12_Qorder_7_T_1.csv') # and file \n",
    "print (a) # fixation X coordinate \n",
    "print(len(a)) # number of all fixations\n",
    "print (b) # fixation Y coordinate\n",
    "print(len(b)) #  number of all fixations \n",
    "print (c) # duration of each fixation\n",
    "print(len(c)) \n",
    "print (d) # distance of saccades\n",
    "print(len(d)) "
   ]
  },
  {
   "cell_type": "code",
   "execution_count": 19,
   "id": "215e1ee6",
   "metadata": {},
   "outputs": [],
   "source": [
    "import pandas as pd\n",
    "import numpy as np\n",
    "\n",
    "a = np.array(a)\n",
    "b = np.array(b)\n",
    "c = np.array(c)\n",
    "d = np.array(d)\n",
    "e = len(a)\n",
    "\n",
    "#df = pd.DataFrame({\"X_pos\" : a, \"Y_pos\" : b, \"Durration\" : c, \"Saccade length\" : d})\n",
    "#df.to_csv(\"output.csv\", index=False)"
   ]
  },
  {
   "cell_type": "code",
   "execution_count": 20,
   "id": "146e48fc",
   "metadata": {},
   "outputs": [],
   "source": [
    "reg_1 = []  #classifying to 4 ROIs\n",
    "reg_2 = [] \n",
    "reg_3 = [] \n",
    "reg_4 = []\n",
    "dur_reg_1 = [] \n",
    "dur_reg_2 = []\n",
    "dur_reg_3 = []\n",
    "dur_reg_4 = [] \n",
    "\n",
    "for i in range(e):\n",
    "    if a[i] <= 840 and b[i] <= 525:#I use the coordinates of x and y as a threshhold for ROIs. It is teh central point. \n",
    "            reg_1.append(1)\n",
    "            dur_reg_1.append(c[i])\n",
    "            \n",
    "    elif a[i] > 840 and b[i] <= 525:\n",
    "            reg_2.append(1)\n",
    "            dur_reg_2.append(c[i])\n",
    "    elif a[i] <= 840 and b[i] > 525:\n",
    "            reg_3.append(1)\n",
    "            dur_reg_3.append(c[i])\n",
    "    else:\n",
    "            reg_4.append(1)\n",
    "            dur_reg_4.append(c[i])"
   ]
  },
  {
   "cell_type": "code",
   "execution_count": 21,
   "id": "94c944ef",
   "metadata": {},
   "outputs": [],
   "source": [
    "f = len(reg_1)\n",
    "g = len(reg_2)\n",
    "h = len(reg_3)\n",
    "i = len(reg_4)\n",
    "j = np.mean(dur_reg_1)\n",
    "k = np.mean(dur_reg_2)\n",
    "l = np.mean(dur_reg_3)\n",
    "m = np.mean(dur_reg_4)"
   ]
  },
  {
   "cell_type": "code",
   "execution_count": 22,
   "id": "28106ebd",
   "metadata": {},
   "outputs": [
    {
     "data": {
      "text/plain": [
       "(5, 324.8, 3, 320.6666666666667, 8, 406.25, 12, 328.9166666666667)"
      ]
     },
     "execution_count": 22,
     "metadata": {},
     "output_type": "execute_result"
    }
   ],
   "source": [
    "f, j, g, k, h, l, i, m"
   ]
  },
  {
   "cell_type": "code",
   "execution_count": 12,
   "id": "d5ffb435",
   "metadata": {},
   "outputs": [
    {
     "data": {
      "text/html": [
       "<div>\n",
       "<style scoped>\n",
       "    .dataframe tbody tr th:only-of-type {\n",
       "        vertical-align: middle;\n",
       "    }\n",
       "\n",
       "    .dataframe tbody tr th {\n",
       "        vertical-align: top;\n",
       "    }\n",
       "\n",
       "    .dataframe thead th {\n",
       "        text-align: right;\n",
       "    }\n",
       "</style>\n",
       "<table border=\"1\" class=\"dataframe\">\n",
       "  <thead>\n",
       "    <tr style=\"text-align: right;\">\n",
       "      <th></th>\n",
       "      <th>reg_1</th>\n",
       "      <th>dur_reg_1</th>\n",
       "      <th>reg_2</th>\n",
       "      <th>dur_reg_2</th>\n",
       "      <th>reg_3</th>\n",
       "      <th>dur_reg_3</th>\n",
       "      <th>reg_4</th>\n",
       "      <th>dur_reg_4</th>\n",
       "    </tr>\n",
       "  </thead>\n",
       "  <tbody>\n",
       "    <tr>\n",
       "      <th>0</th>\n",
       "      <td>24.0</td>\n",
       "      <td>342.625</td>\n",
       "      <td>22.0</td>\n",
       "      <td>474.590909</td>\n",
       "      <td>26.0</td>\n",
       "      <td>417.615385</td>\n",
       "      <td>23.0</td>\n",
       "      <td>456.217391</td>\n",
       "    </tr>\n",
       "  </tbody>\n",
       "</table>\n",
       "</div>"
      ],
      "text/plain": [
       "   reg_1  dur_reg_1  reg_2   dur_reg_2  reg_3   dur_reg_3  reg_4   dur_reg_4\n",
       "0   24.0    342.625   22.0  474.590909   26.0  417.615385   23.0  456.217391"
      ]
     },
     "metadata": {},
     "output_type": "display_data"
    }
   ],
   "source": [
    "df.loc[len(df.index)] = [f, j, g, k, h, l, i, m]  # I write the records in table \n",
    "  \n",
    "display(df)"
   ]
  },
  {
   "cell_type": "code",
   "execution_count": 23,
   "id": "a43064eb",
   "metadata": {},
   "outputs": [],
   "source": [
    "df.to_csv(\"output_new.csv\", index=False) # save the file"
   ]
  },
  {
   "cell_type": "code",
   "execution_count": null,
   "id": "70e12f5a",
   "metadata": {},
   "outputs": [],
   "source": []
  },
  {
   "cell_type": "code",
   "execution_count": null,
   "id": "4d20cbd7",
   "metadata": {},
   "outputs": [],
   "source": []
  },
  {
   "cell_type": "code",
   "execution_count": null,
   "id": "5ff9bbd6",
   "metadata": {},
   "outputs": [],
   "source": []
  },
  {
   "cell_type": "code",
   "execution_count": null,
   "id": "7bfb96b3",
   "metadata": {},
   "outputs": [],
   "source": []
  },
  {
   "cell_type": "code",
   "execution_count": null,
   "id": "4981e35e",
   "metadata": {},
   "outputs": [],
   "source": []
  }
 ],
 "metadata": {
  "kernelspec": {
   "display_name": "Python 3 (ipykernel)",
   "language": "python",
   "name": "python3"
  },
  "language_info": {
   "codemirror_mode": {
    "name": "ipython",
    "version": 3
   },
   "file_extension": ".py",
   "mimetype": "text/x-python",
   "name": "python",
   "nbconvert_exporter": "python",
   "pygments_lexer": "ipython3",
   "version": "3.9.13"
  }
 },
 "nbformat": 4,
 "nbformat_minor": 5
}
